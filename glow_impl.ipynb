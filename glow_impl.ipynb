{
  "nbformat": 4,
  "nbformat_minor": 0,
  "metadata": {
    "colab": {
      "name": "glow_impl.ipynb",
      "provenance": [],
      "collapsed_sections": [],
      "toc_visible": true,
      "authorship_tag": "ABX9TyPPgFTVojPNspUdwcenraaZ",
      "include_colab_link": true
    },
    "kernelspec": {
      "name": "python3",
      "display_name": "Python 3"
    },
    "accelerator": "GPU",
    "widgets": {
      "application/vnd.jupyter.widget-state+json": {
        "526ab654fc7f4b048d8ee3158183f2d2": {
          "model_module": "@jupyter-widgets/controls",
          "model_name": "HBoxModel",
          "state": {
            "_view_name": "HBoxView",
            "_dom_classes": [],
            "_model_name": "HBoxModel",
            "_view_module": "@jupyter-widgets/controls",
            "_model_module_version": "1.5.0",
            "_view_count": null,
            "_view_module_version": "1.5.0",
            "box_style": "",
            "layout": "IPY_MODEL_59d4efc34a3e4dbb90b5b272167581ba",
            "_model_module": "@jupyter-widgets/controls",
            "children": [
              "IPY_MODEL_0ae273dafaae4cedb374226a5c2632f2",
              "IPY_MODEL_5ac1c136a9414b50b8f8dc93375b081d"
            ]
          }
        },
        "59d4efc34a3e4dbb90b5b272167581ba": {
          "model_module": "@jupyter-widgets/base",
          "model_name": "LayoutModel",
          "state": {
            "_view_name": "LayoutView",
            "grid_template_rows": null,
            "right": null,
            "justify_content": null,
            "_view_module": "@jupyter-widgets/base",
            "overflow": null,
            "_model_module_version": "1.2.0",
            "_view_count": null,
            "flex_flow": null,
            "width": null,
            "min_width": null,
            "border": null,
            "align_items": null,
            "bottom": null,
            "_model_module": "@jupyter-widgets/base",
            "top": null,
            "grid_column": null,
            "overflow_y": null,
            "overflow_x": null,
            "grid_auto_flow": null,
            "grid_area": null,
            "grid_template_columns": null,
            "flex": null,
            "_model_name": "LayoutModel",
            "justify_items": null,
            "grid_row": null,
            "max_height": null,
            "align_content": null,
            "visibility": null,
            "align_self": null,
            "height": null,
            "min_height": null,
            "padding": null,
            "grid_auto_rows": null,
            "grid_gap": null,
            "max_width": null,
            "order": null,
            "_view_module_version": "1.2.0",
            "grid_template_areas": null,
            "object_position": null,
            "object_fit": null,
            "grid_auto_columns": null,
            "margin": null,
            "display": null,
            "left": null
          }
        },
        "0ae273dafaae4cedb374226a5c2632f2": {
          "model_module": "@jupyter-widgets/controls",
          "model_name": "FloatProgressModel",
          "state": {
            "_view_name": "ProgressView",
            "style": "IPY_MODEL_0a8421b9539b4c998adbec0fdbdb17ad",
            "_dom_classes": [],
            "description": "",
            "_model_name": "FloatProgressModel",
            "bar_style": "success",
            "max": 170498071,
            "_view_module": "@jupyter-widgets/controls",
            "_model_module_version": "1.5.0",
            "value": 170498071,
            "_view_count": null,
            "_view_module_version": "1.5.0",
            "orientation": "horizontal",
            "min": 0,
            "description_tooltip": null,
            "_model_module": "@jupyter-widgets/controls",
            "layout": "IPY_MODEL_40668cde7efe41fcb37228f9c52c6ffe"
          }
        },
        "5ac1c136a9414b50b8f8dc93375b081d": {
          "model_module": "@jupyter-widgets/controls",
          "model_name": "HTMLModel",
          "state": {
            "_view_name": "HTMLView",
            "style": "IPY_MODEL_2b80b723821d4a068f1c14587eb755a2",
            "_dom_classes": [],
            "description": "",
            "_model_name": "HTMLModel",
            "placeholder": "​",
            "_view_module": "@jupyter-widgets/controls",
            "_model_module_version": "1.5.0",
            "value": " 170499072/? [00:08&lt;00:00, 20763003.15it/s]",
            "_view_count": null,
            "_view_module_version": "1.5.0",
            "description_tooltip": null,
            "_model_module": "@jupyter-widgets/controls",
            "layout": "IPY_MODEL_690940c5616440559b90b7a3bf4f1294"
          }
        },
        "0a8421b9539b4c998adbec0fdbdb17ad": {
          "model_module": "@jupyter-widgets/controls",
          "model_name": "ProgressStyleModel",
          "state": {
            "_view_name": "StyleView",
            "_model_name": "ProgressStyleModel",
            "description_width": "initial",
            "_view_module": "@jupyter-widgets/base",
            "_model_module_version": "1.5.0",
            "_view_count": null,
            "_view_module_version": "1.2.0",
            "bar_color": null,
            "_model_module": "@jupyter-widgets/controls"
          }
        },
        "40668cde7efe41fcb37228f9c52c6ffe": {
          "model_module": "@jupyter-widgets/base",
          "model_name": "LayoutModel",
          "state": {
            "_view_name": "LayoutView",
            "grid_template_rows": null,
            "right": null,
            "justify_content": null,
            "_view_module": "@jupyter-widgets/base",
            "overflow": null,
            "_model_module_version": "1.2.0",
            "_view_count": null,
            "flex_flow": null,
            "width": null,
            "min_width": null,
            "border": null,
            "align_items": null,
            "bottom": null,
            "_model_module": "@jupyter-widgets/base",
            "top": null,
            "grid_column": null,
            "overflow_y": null,
            "overflow_x": null,
            "grid_auto_flow": null,
            "grid_area": null,
            "grid_template_columns": null,
            "flex": null,
            "_model_name": "LayoutModel",
            "justify_items": null,
            "grid_row": null,
            "max_height": null,
            "align_content": null,
            "visibility": null,
            "align_self": null,
            "height": null,
            "min_height": null,
            "padding": null,
            "grid_auto_rows": null,
            "grid_gap": null,
            "max_width": null,
            "order": null,
            "_view_module_version": "1.2.0",
            "grid_template_areas": null,
            "object_position": null,
            "object_fit": null,
            "grid_auto_columns": null,
            "margin": null,
            "display": null,
            "left": null
          }
        },
        "2b80b723821d4a068f1c14587eb755a2": {
          "model_module": "@jupyter-widgets/controls",
          "model_name": "DescriptionStyleModel",
          "state": {
            "_view_name": "StyleView",
            "_model_name": "DescriptionStyleModel",
            "description_width": "",
            "_view_module": "@jupyter-widgets/base",
            "_model_module_version": "1.5.0",
            "_view_count": null,
            "_view_module_version": "1.2.0",
            "_model_module": "@jupyter-widgets/controls"
          }
        },
        "690940c5616440559b90b7a3bf4f1294": {
          "model_module": "@jupyter-widgets/base",
          "model_name": "LayoutModel",
          "state": {
            "_view_name": "LayoutView",
            "grid_template_rows": null,
            "right": null,
            "justify_content": null,
            "_view_module": "@jupyter-widgets/base",
            "overflow": null,
            "_model_module_version": "1.2.0",
            "_view_count": null,
            "flex_flow": null,
            "width": null,
            "min_width": null,
            "border": null,
            "align_items": null,
            "bottom": null,
            "_model_module": "@jupyter-widgets/base",
            "top": null,
            "grid_column": null,
            "overflow_y": null,
            "overflow_x": null,
            "grid_auto_flow": null,
            "grid_area": null,
            "grid_template_columns": null,
            "flex": null,
            "_model_name": "LayoutModel",
            "justify_items": null,
            "grid_row": null,
            "max_height": null,
            "align_content": null,
            "visibility": null,
            "align_self": null,
            "height": null,
            "min_height": null,
            "padding": null,
            "grid_auto_rows": null,
            "grid_gap": null,
            "max_width": null,
            "order": null,
            "_view_module_version": "1.2.0",
            "grid_template_areas": null,
            "object_position": null,
            "object_fit": null,
            "grid_auto_columns": null,
            "margin": null,
            "display": null,
            "left": null
          }
        }
      }
    }
  },
  "cells": [
    {
      "cell_type": "markdown",
      "metadata": {
        "id": "view-in-github",
        "colab_type": "text"
      },
      "source": [
        "<a href=\"https://colab.research.google.com/github/juliawiktoria/glow_implementation/blob/main/glow_impl.ipynb\" target=\"_parent\"><img src=\"https://colab.research.google.com/assets/colab-badge.svg\" alt=\"Open In Colab\"/></a>"
      ]
    },
    {
      "cell_type": "markdown",
      "metadata": {
        "id": "InldVjVN4Q6G"
      },
      "source": [
        "# Mount Google Drive to save work"
      ]
    },
    {
      "cell_type": "code",
      "metadata": {
        "id": "xHGVqtMtTRBW",
        "colab": {
          "base_uri": "https://localhost:8080/"
        },
        "outputId": "01505993-4ca6-4bc9-d012-786698700aff"
      },
      "source": [
        "from google.colab import drive\r\n",
        "drive.mount('/content/drive')"
      ],
      "execution_count": null,
      "outputs": [
        {
          "output_type": "stream",
          "text": [
            "Mounted at /content/drive\n"
          ],
          "name": "stdout"
        }
      ]
    },
    {
      "cell_type": "code",
      "metadata": {
        "colab": {
          "base_uri": "https://localhost:8080/"
        },
        "id": "agtZFFz76aCu",
        "outputId": "b5f3b030-005a-4c16-be65-0476e5248c67"
      },
      "source": [
        "!pwd"
      ],
      "execution_count": null,
      "outputs": [
        {
          "output_type": "stream",
          "text": [
            "/content/drive/My Drive/flow_implementation\n"
          ],
          "name": "stdout"
        }
      ]
    },
    {
      "cell_type": "code",
      "metadata": {
        "colab": {
          "base_uri": "https://localhost:8080/"
        },
        "id": "1uGvohyJ6riU",
        "outputId": "b8557d56-4bde-4564-bfbf-db7ec484860f"
      },
      "source": [
        "%cd drive/MyDrive/flow_implementation/"
      ],
      "execution_count": null,
      "outputs": [
        {
          "output_type": "stream",
          "text": [
            "/content/drive/MyDrive/flow_implementation\n"
          ],
          "name": "stdout"
        }
      ]
    },
    {
      "cell_type": "code",
      "metadata": {
        "id": "AaCahmNE6end"
      },
      "source": [
        "!rm -rf data/"
      ],
      "execution_count": null,
      "outputs": []
    },
    {
      "cell_type": "code",
      "metadata": {
        "id": "lCT0D6Sjsekx"
      },
      "source": [
        "!rm -rf samples/"
      ],
      "execution_count": null,
      "outputs": []
    },
    {
      "cell_type": "markdown",
      "metadata": {
        "id": "T32Mh-4366hq"
      },
      "source": [
        "# IMPLEMENTATION"
      ]
    },
    {
      "cell_type": "markdown",
      "metadata": {
        "id": "p2zeGgAw7G6d"
      },
      "source": [
        "Imports"
      ]
    },
    {
      "cell_type": "code",
      "metadata": {
        "id": "K10M_4W-BA_g"
      },
      "source": [
        "## Standard libraries\r\n",
        "import os\r\n",
        "import math\r\n",
        "import time\r\n",
        "import numpy as np\r\n",
        "\r\n",
        "## Imports for plotting\r\n",
        "import matplotlib.pyplot as plt\r\n",
        "%matplotlib inline\r\n",
        "\r\n",
        "## PyTorch\r\n",
        "import torch\r\n",
        "import torch.nn as nn\r\n",
        "import torch.nn.functional as F\r\n",
        "import torch.utils.data as data\r\n",
        "import torch.optim as optim\r\n",
        "import torch.optim.lr_scheduler as sched\r\n",
        "import torch.backends.cudnn as cudnn\r\n",
        "\r\n",
        "# Torchvision\r\n",
        "import torchvision\r\n",
        "from torchvision.datasets import MNIST\r\n",
        "from torchvision import transforms\r\n",
        "\r\n",
        "# other\r\n",
        "from tqdm import tqdm"
      ],
      "execution_count": null,
      "outputs": []
    },
    {
      "cell_type": "markdown",
      "metadata": {
        "id": "DrmTUNXtNU-7"
      },
      "source": [
        "Calculating negative log likelihood"
      ]
    },
    {
      "cell_type": "code",
      "metadata": {
        "id": "uIQWprhEQ1Qp"
      },
      "source": [
        "class NLLLoss(nn.Module):\r\n",
        "    \"\"\"Negative log-likelihood loss assuming isotropic gaussian with unit norm.\r\n",
        "    Args:\r\n",
        "        k (int or float): Number of discrete values in each input dimension.\r\n",
        "            E.g., `k` is 256 for natural images.\r\n",
        "    See Also:\r\n",
        "        Equation (3) in the RealNVP paper: https://arxiv.org/abs/1605.08803\r\n",
        "    \"\"\"\r\n",
        "    def __init__(self, k=256):\r\n",
        "        super(NLLLoss, self).__init__()\r\n",
        "        self.k = k\r\n",
        "\r\n",
        "    def forward(self, z, sldj):\r\n",
        "        prior_ll = -0.5 * (z ** 2 + np.log(2 * np.pi))\r\n",
        "        prior_ll = prior_ll.flatten(1).sum(-1) \\\r\n",
        "            - np.log(self.k) * np.prod(z.size()[1:])\r\n",
        "        ll = prior_ll + sldj\r\n",
        "        nll = -ll.mean()\r\n",
        "\r\n",
        "        return nll"
      ],
      "execution_count": null,
      "outputs": []
    },
    {
      "cell_type": "code",
      "metadata": {
        "id": "3L9H-kg2cHCm"
      },
      "source": [
        "class InvertedConvolution(nn.Module):\r\n",
        "  def __init__(self, num_channels):\r\n",
        "    super(InvertedConvolution, self).__init__()\r\n",
        "    self.num_channels = num_channels\r\n",
        "\r\n",
        "    w_init = np.random.randn(num_channels, num_channels)\r\n",
        "    w_init = np.linalg.qr(w_init)[0].astype(np.float32)\r\n",
        "    self.weights = nn.Parameter(torch.from_numpy(w_init))\r\n",
        "\r\n",
        "  def forward(self, x, sldj, reverse=False):\r\n",
        "    lower_det_jacobian = torch.slogdet(self.weights)[1] * x.size(2) * x.size(3)\r\n",
        "\r\n",
        "    if reverse:\r\n",
        "      weights = torch.inverse(self.weights.double()).float()\r\n",
        "      sldj = sldj - lower_det_jacobian\r\n",
        "    else:\r\n",
        "      weights = self.weights\r\n",
        "      sldj = sldj + lower_det_jacobian\r\n",
        "    \r\n",
        "    weights = weights.view(self.num_channels, self.num_channels, 1, 1)\r\n",
        "    z = F.conv2d(x, weights)\r\n",
        "\r\n",
        "    return z, sldj"
      ],
      "execution_count": null,
      "outputs": []
    },
    {
      "cell_type": "code",
      "metadata": {
        "id": "ODY4xunAZTqF"
      },
      "source": [
        "def mean_over_dimensions(tensor, dim=None, keepdims=False):\r\n",
        "  if dim is None:\r\n",
        "      return tensor.mean()\r\n",
        "  else:\r\n",
        "      if isinstance(dim, int):\r\n",
        "          dim = [dim]\r\n",
        "      dim = sorted(dim)\r\n",
        "      for d in dim:\r\n",
        "          tensor = tensor.mean(dim=d, keepdim=True)\r\n",
        "      if not keepdims:\r\n",
        "          for i, d in enumerate(dim):\r\n",
        "              tensor.squeeze_(d-i)\r\n",
        "      return tensor"
      ],
      "execution_count": null,
      "outputs": []
    },
    {
      "cell_type": "code",
      "metadata": {
        "id": "HjutCbylX90q"
      },
      "source": [
        "class ActivationNormalisation(nn.Module):\r\n",
        "  def __init__(self, num_features, scale=1., return_lower_det_jacobian=False):\r\n",
        "    super(ActivationNormalisation, self).__init__()\r\n",
        "    self.register_buffer('is_initialised', torch.zeros(1))\r\n",
        "    self.bias = nn.Parameter(torch.zeros(1, num_features, 1, 1))\r\n",
        "    self.logs = nn.Parameter(torch.zeros(1, num_features, 1, 1))\r\n",
        "\r\n",
        "    self.num_features = num_features\r\n",
        "    self.scale = float(scale)\r\n",
        "    self.epsilon = 1e-6\r\n",
        "    self.return_lower_det_jacobian = return_lower_det_jacobian\r\n",
        "\r\n",
        "  def init_params(self, x):\r\n",
        "    if not self.training:\r\n",
        "      return\r\n",
        "    with torch.no_grad():\r\n",
        "      bias = -1*mean_over_dimensions(x.clone(), dim=[0, 2, 3], keepdims=True)\r\n",
        "      v = mean_over_dimensions((x.clone() - bias) ** 2, dim=[0, 2, 3], keepdims=True)\r\n",
        "      logs = (self.scale / (v.sqrt() + self.epsilon)).log()\r\n",
        "\r\n",
        "      self.bias.data.copy_(bias.data)\r\n",
        "      self.logs.data.copy_(logs.data)\r\n",
        "      self.is_initialised += 1\r\n",
        "  \r\n",
        "  def _center(self, x, reverse=False):\r\n",
        "    if reverse:\r\n",
        "      return x - self.bias\r\n",
        "    else:\r\n",
        "      return x + self.bias\r\n",
        "\r\n",
        "  def _scale(self, x, sldj, reverse=False):\r\n",
        "    logs = self.logs\r\n",
        "\r\n",
        "    if reverse:\r\n",
        "      x = x * logs.mul(-1).exp()\r\n",
        "    else:\r\n",
        "      x = x * logs.exp()\r\n",
        "    \r\n",
        "    if sldj is not None:\r\n",
        "      lower_det_jacobian = logs.sum() * x.size(2) * x.size(3)\r\n",
        "      if reverse:\r\n",
        "        sldj = sldj - lower_det_jacobian\r\n",
        "      else:\r\n",
        "        sldj = sldj + lower_det_jacobian\r\n",
        "    \r\n",
        "    return x, sldj\r\n",
        "  \r\n",
        "  def forward(self, x, lower_det_jacobian=None, reverse=False):\r\n",
        "    if not self.is_initialised:\r\n",
        "      self.init_params(x)\r\n",
        "    \r\n",
        "    if reverse:\r\n",
        "      x, lower_det_jacobian = self._scale(x, lower_det_jacobian, reverse)\r\n",
        "      x = self._center(x, reverse)\r\n",
        "    else:\r\n",
        "      x = self._center(x, reverse)\r\n",
        "      x, lower_det_jacobian = self._scale(x, lower_det_jacobian, reverse)\r\n",
        "    \r\n",
        "    if self.return_lower_det_jacobian:\r\n",
        "      return x, lower_det_jacobian\r\n",
        "    \r\n",
        "    return x"
      ],
      "execution_count": null,
      "outputs": []
    },
    {
      "cell_type": "code",
      "metadata": {
        "id": "8aks_xRuT6e3"
      },
      "source": [
        "class CNN(nn.Module):\r\n",
        "  def __init__(self, in_channels, mid_channels, out_channels, use_act_norm=False):\r\n",
        "    super(CNN, self).__init__()\r\n",
        "    norm_function = ActivationNormalisation if use_act_norm else nn.BatchNorm2d\r\n",
        "\r\n",
        "    self.in_norm = norm_function(in_channels)\r\n",
        "    self.in_conv = nn.Conv2d(in_channels, mid_channels, kernel_size=3, padding=1, bias=False)\r\n",
        "    nn.init.normal_(self.in_conv.weight, 0., 0.05)\r\n",
        "\r\n",
        "    self.mid_norm = norm_function(mid_channels)\r\n",
        "    self.mid_conv = nn.Conv2d(mid_channels, mid_channels, kernel_size=1, padding=0, bias=False)\r\n",
        "    nn.init.normal_(self.mid_conv.weight, 0., 0.05)\r\n",
        "\r\n",
        "    self.out_norm = norm_function(mid_channels)\r\n",
        "    self.out_conv = nn.Conv2d(mid_channels, out_channels,\r\n",
        "                              kernel_size=3, padding=1, bias=True)\r\n",
        "    nn.init.zeros_(self.out_conv.weight)\r\n",
        "    nn.init.zeros_(self.out_conv.bias)\r\n",
        "\r\n",
        "  def forward(self, x):\r\n",
        "    x = self.in_norm(x)\r\n",
        "    x = F.relu(x)\r\n",
        "    x = self.in_conv(x)\r\n",
        "\r\n",
        "    x = self.mid_norm(x)\r\n",
        "    x = F.relu(x)\r\n",
        "    x = self.mid_conv(x)\r\n",
        "\r\n",
        "    x = self.out_norm(x)\r\n",
        "    x = F.relu(x)\r\n",
        "    x = self.out_conv(x)\r\n",
        "\r\n",
        "    return x"
      ],
      "execution_count": null,
      "outputs": []
    },
    {
      "cell_type": "code",
      "metadata": {
        "id": "P9XTKrgqTdZM"
      },
      "source": [
        "class AffineCoupling(nn.Module):\r\n",
        "  def __init__(self, in_channels, mid_channels):\r\n",
        "    super(AffineCoupling, self).__init__()\r\n",
        "    self.name = \"affine coupling layer\"\r\n",
        "    self.cnn = CNN(in_channels, mid_channels, in_channels * 2)\r\n",
        "    self.scale = nn.Parameter(torch.ones(in_channels, 1, 1))\r\n",
        "  \r\n",
        "  def forward(self, x, lower_det_jacobian, reverse=False):\r\n",
        "    x_change, x_id = x.chunk(2, dim=1)\r\n",
        "\r\n",
        "    st = self.cnn(x_id)\r\n",
        "    s, t = st[:, 0::2, ...], st[:, 1::2, ...]\r\n",
        "    s = self.scale * torch.tanh(s)\r\n",
        "\r\n",
        "    # Scale and translate\r\n",
        "    if reverse:\r\n",
        "        x_change = x_change * s.mul(-1).exp() - t\r\n",
        "        lower_det_jacobian = lower_det_jacobian - s.flatten(1).sum(-1)\r\n",
        "    else:\r\n",
        "        x_change = (x_change + t) * s.exp()\r\n",
        "        lower_det_jacobian = lower_det_jacobian + s.flatten(1).sum(-1)\r\n",
        "\r\n",
        "    x = torch.cat((x_change, x_id), dim=1)\r\n",
        "\r\n",
        "    return x, lower_det_jacobian"
      ],
      "execution_count": null,
      "outputs": []
    },
    {
      "cell_type": "code",
      "metadata": {
        "id": "WkPx2IugNjGG"
      },
      "source": [
        "class _FlowStep(nn.Module):\r\n",
        "  def __init__(self, in_channels, mid_channels):\r\n",
        "    super(_FlowStep, self).__init__()\r\n",
        "\r\n",
        "    self.normalisation = ActivationNormalisation(in_channels, return_lower_det_jacobian=True)\r\n",
        "    self.convolution = InvertedConvolution(in_channels)\r\n",
        "    self.coupling = AffineCoupling(in_channels // 2, mid_channels)\r\n",
        "\r\n",
        "  def forward(self, x, sldj=None, reverse=False):\r\n",
        "    if reverse:\r\n",
        "      x, sldj = self.coupling(x, sldj, reverse)\r\n",
        "      x, sldj = self.convolution(x, sldj, reverse)\r\n",
        "      x, sldj = self.normalisation(x, sldj, reverse)\r\n",
        "    else:\r\n",
        "      x, sldj = self.normalisation(x, sldj, reverse)\r\n",
        "      x, sldj = self.convolution(x, sldj, reverse)\r\n",
        "      x, sldj = self.coupling(x, sldj, reverse)\r\n",
        "    \r\n",
        "    return x, sldj"
      ],
      "execution_count": null,
      "outputs": []
    },
    {
      "cell_type": "code",
      "metadata": {
        "id": "0XpzouqtQjmd"
      },
      "source": [
        "class _GlowLevel(nn.Module):\r\n",
        "  def __init__(self, in_channels, mid_channels, num_levels, num_steps):\r\n",
        "    super(_GlowLevel, self).__init__()\r\n",
        "\r\n",
        "    self.steps = nn.ModuleList([_FlowStep(in_channels=in_channels, mid_channels=mid_channels) for _ in range(num_steps)])\r\n",
        "\r\n",
        "    # there are more than 1 level; create a link to the next level object\r\n",
        "    if num_levels > 1:\r\n",
        "      self.next = _GlowLevel(in_channels=2*in_channels, mid_channels=mid_channels, num_levels=num_levels-1, num_steps=num_steps)\r\n",
        "    else:\r\n",
        "      self.next = None\r\n",
        "\r\n",
        "  def forward(self, x, sldj, reverse=False):\r\n",
        "    if not reverse:\r\n",
        "      for step in self.steps:\r\n",
        "        x, sldj = step(x, sldj, reverse)\r\n",
        "    \r\n",
        "    if self.next is not None:\r\n",
        "      x = squeeze(x)\r\n",
        "      x, x_split = x.chunk(2, dim=1)\r\n",
        "      x, sldj = self.next(x, sldj, reverse)\r\n",
        "      x = torch.cat((x, x_split), dim=1)\r\n",
        "      x = squeeze(x, reverse=True)\r\n",
        "    \r\n",
        "    if reverse:\r\n",
        "      for step in reversed(self.steps):\r\n",
        "        x, sldj = step(x, sldj, reverse)\r\n",
        "    \r\n",
        "    return x, sldj"
      ],
      "execution_count": null,
      "outputs": []
    },
    {
      "cell_type": "code",
      "metadata": {
        "id": "XUIjEbXjB08r"
      },
      "source": [
        "class GlowModel(nn.Module):\r\n",
        "  def __init__(self, num_channels, num_layers, num_steps):\r\n",
        "    super(GlowModel, self).__init__()\r\n",
        "    self.name = \"glow\"\r\n",
        "    self.num_channels = num_channels\r\n",
        "    self.num_layers = num_layers\r\n",
        "    self.num_steps = num_steps\r\n",
        "    self.register_buffer('bounds', torch.tensor([0.9], dtype=torch.float32))\r\n",
        "\r\n",
        "    self.flows = _GlowLevel(in_channels=4*3, mid_channels=num_channels, num_levels=num_layers, num_steps=num_steps)\r\n",
        "  \r\n",
        "  def forward(self, x, reverse=False):\r\n",
        "    if reverse:\r\n",
        "      sldj = torch.zeros(x.size(0), device=x.device)\r\n",
        "    else:\r\n",
        "      if x.min() < 0 or x.max() > 1:\r\n",
        "        raise ValueError('Expected x in [0, 1], got min/max [{}, {}]'.format(x.min(), x.max()))\r\n",
        "      x, sldj = self._pre_process(x)\r\n",
        "    \r\n",
        "    x = squeeze(x)\r\n",
        "    x, sldj = self.flows(x, sldj, reverse)\r\n",
        "    x = squeeze(x, reverse=True)\r\n",
        "\r\n",
        "    return x, sldj\r\n",
        "  \r\n",
        "  def _pre_process(self, x):\r\n",
        "    y = (x * 255. + torch.rand_like(x)) / 256.\r\n",
        "    y = (2 * y - 1) * self.bounds\r\n",
        "    y = (y + 1) / 2\r\n",
        "    y = y.log() - (1. - y).log()\r\n",
        "\r\n",
        "    # Save log-determinant of Jacobian of initial transform\r\n",
        "    ldj = F.softplus(y) + F.softplus(-y) \\\r\n",
        "        - F.softplus((1. - self.bounds).log() - self.bounds.log())\r\n",
        "    sldj = ldj.flatten(1).sum(-1)\r\n",
        "\r\n",
        "    return y, sldj\r\n",
        "\r\n",
        "  def describe(self):\r\n",
        "    print(\"Model {} with {} convolutional channels, {} model levels, and {} steps in each levels.\".format(self.name, self.num_channels, self.num_layers, self.num_steps))"
      ],
      "execution_count": null,
      "outputs": []
    },
    {
      "cell_type": "code",
      "metadata": {
        "id": "1-gtENdrPo6e"
      },
      "source": [
        "def squeeze(x, reverse=False):\r\n",
        "  b, c, h, w = x.size()\r\n",
        "\r\n",
        "  if reverse:\r\n",
        "    # unsqueeze\r\n",
        "    x = x.view(b, c // 4, 2, 2, h, w)\r\n",
        "    x = x.permute(0, 1, 4, 2, 5, 3).contiguous()\r\n",
        "    x = x.view(b, c // 4, h * 2, w * 2)\r\n",
        "  else:\r\n",
        "    # squeeze\r\n",
        "    x = x.view(b, c, h //2, 2, w //2, 2)\r\n",
        "    x = x.permute(0, 1, 3, 5, 2, 4).contiguous()\r\n",
        "    x = x.view(b, c * 2 * 2, h // 2, w // 2)\r\n",
        "  \r\n",
        "  return x"
      ],
      "execution_count": null,
      "outputs": []
    },
    {
      "cell_type": "code",
      "metadata": {
        "id": "BBo_Y0zCXGEC"
      },
      "source": [
        "def clip_grad_norm(optimizer, max_norm, norm_type=2):\r\n",
        "  for group in optimizer.param_groups:\r\n",
        "    utils.clip_grad_norm(group['params'], max_norm, norm_type)"
      ],
      "execution_count": null,
      "outputs": []
    },
    {
      "cell_type": "code",
      "metadata": {
        "id": "AQ2EHsKVXxGf"
      },
      "source": [
        "def bits_per_dimension(x, nll):\r\n",
        "  dim = np.prod(x.size()[1:])\r\n",
        "  bpd = nll / (np.log(2) * dim)\r\n",
        "  return bpd"
      ],
      "execution_count": null,
      "outputs": []
    },
    {
      "cell_type": "code",
      "metadata": {
        "id": "IKbg0mBQZ3Iv"
      },
      "source": [
        "class AvgMeter(object):\r\n",
        "  def __init__(self):\r\n",
        "    self.val = 0\r\n",
        "    self.avg = 0\r\n",
        "    self.sum = 0\r\n",
        "    self.count = 0\r\n",
        "\r\n",
        "  def reset(self):\r\n",
        "    self.val = 0\r\n",
        "    self.avg = 0\r\n",
        "    self.sum = 0\r\n",
        "    self.count = 0\r\n",
        "\r\n",
        "  def update(self, val, n=1):\r\n",
        "    self.val = val\r\n",
        "    self.sum += val * n\r\n",
        "    self.count += n\r\n",
        "    self.avg = self.sum / self.count"
      ],
      "execution_count": null,
      "outputs": []
    },
    {
      "cell_type": "code",
      "metadata": {
        "id": "6so7blt-Rxnr"
      },
      "source": [
        "@torch.enable_grad()\r\n",
        "def train(epoch, model, trainloader, device, optimizer, scheduler, loss_func, max_grad_norm):\r\n",
        "  # TODO: implement checkpointing\r\n",
        "  print(\"===> EPOCH {}\".format(epoch))\r\n",
        "  global global_step\r\n",
        "  # training mode from torch nn module\r\n",
        "  model.train()\r\n",
        "  loss_meter = AvgMeter()\r\n",
        "  with tqdm(total=len(trainloader.dataset)) as progress_bar:\r\n",
        "    for x, _ in trainloader:\r\n",
        "      x = x.to(device)\r\n",
        "      optimizer.zero_grad()\r\n",
        "      z, sldj = model(x, reverse=False)\r\n",
        "      loss = loss_func(z, sldj)\r\n",
        "      loss_meter.update(loss.item(), x.size(0))\r\n",
        "      loss.backward()\r\n",
        "\r\n",
        "      if max_grad_norm > 0:\r\n",
        "        clip_grad_norm(optimizer, max_grad_norm)\r\n",
        "      optimizer.step()\r\n",
        "      scheduler.step()\r\n",
        "\r\n",
        "      progress_bar.set_postfix(nll=loss_meter.avg, bpd=bits_per_dimension(x, loss_meter.avg), lr=optimizer.param_groups[0]['lr'])\r\n",
        "      progress_bar.update(x.size(0))\r\n",
        "      global_step += x.size(0)"
      ],
      "execution_count": null,
      "outputs": []
    },
    {
      "cell_type": "code",
      "metadata": {
        "id": "Qp6_2x6fei17"
      },
      "source": [
        "def sample(model, batch_size, device):\r\n",
        "  z = torch.randn((batch_size, 3, 32, 32), dtype=torch.float32, device=device)\r\n",
        "  x, _ = model(z, reverse=True)\r\n",
        "  x = torch.sigmoid(x)\r\n",
        "\r\n",
        "  return x"
      ],
      "execution_count": null,
      "outputs": []
    },
    {
      "cell_type": "code",
      "metadata": {
        "id": "05U9S2GHR17U"
      },
      "source": [
        "@torch.no_grad()\r\n",
        "def test(epoch, model, testloader, device, loss_func, num_samples):\r\n",
        "  print(\"testing func\")\r\n",
        "  global best_loss\r\n",
        "\r\n",
        "  model.eval()\r\n",
        "  loss_meter = AvgMeter()\r\n",
        "\r\n",
        "  with tqdm(total=len(testloader.dataset)) as progress_bar:\r\n",
        "    for x, _ in testloader:\r\n",
        "      x = x.to(device)\r\n",
        "      z, sldj = model(x, reverse=False)\r\n",
        "      loss = loss_func(z, sldj)\r\n",
        "      loss_meter.update(loss.item(), x.size(0))\r\n",
        "      progress_bar.set_postfix(nll=loss_meter.avg, bpd=bits_per_dimension(x, loss_meter.avg))\r\n",
        "      progress_bar.update(x.size(0))\r\n",
        "\r\n",
        "    # Save samples and data\r\n",
        "    images = sample(model, num_samples, device)\r\n",
        "    path_to_images = 'samples/epoch' + str(epoch)\r\n",
        "    os.makedirs(path_to_images, exist_ok=True)\r\n",
        "    for i in range(images.size(0)):\r\n",
        "      torchvision.utils.save_image(images[i, :, :, :], '{}/img_{}.png'.format(path_to_images, i))\r\n",
        "    # images_concat = torchvision.utils.make_grid(images, nrow=int(num_samples ** 0.5), padding=2, pad_value=255)\r\n",
        "    # torchvision.utils.save_image(images_concat, 'samples/epoch_{}.png'.format(epoch))"
      ],
      "execution_count": null,
      "outputs": []
    },
    {
      "cell_type": "code",
      "metadata": {
        "id": "qMGd5J7Z6LYa"
      },
      "source": [
        "def main_wrapper():\r\n",
        "  if_gpu = True\r\n",
        "  # default args\r\n",
        "  batch_size = 64\r\n",
        "  benchmark = True\r\n",
        "  gpu_ids = [0]\r\n",
        "  learning_rate = 1e-3\r\n",
        "  max_grad_norm = -1.\r\n",
        "  num_channels = 512\r\n",
        "  num_levels = 3\r\n",
        "  num_steps = 32\r\n",
        "  num_epochs = 20\r\n",
        "  num_samples = 64\r\n",
        "  num_workers = 8\r\n",
        "  resume = False\r\n",
        "  seed = 0\r\n",
        "  warm_up = 500000\r\n",
        "  \r\n",
        "  device = 'cuda' if torch.cuda.is_available() and if_gpu else 'cpu'\r\n",
        "  print(device)\r\n",
        "  max_grad_norm_default = -1\r\n",
        "\r\n",
        "  # getting data for training; just CIFAR10\r\n",
        "  transform_train = transforms.Compose([\r\n",
        "      transforms.RandomHorizontalFlip(),\r\n",
        "      transforms.ToTensor()\r\n",
        "  ])\r\n",
        "\r\n",
        "  transform_test = transforms.Compose([\r\n",
        "      transforms.ToTensor()\r\n",
        "  ])\r\n",
        "\r\n",
        "  trainset = torchvision.datasets.CIFAR10(root='data', train=True, download=True, transform=transform_train)\r\n",
        "  trainloader = data.DataLoader(trainset, batch_size=batch_size, shuffle=True, num_workers=num_workers)\r\n",
        "\r\n",
        "  testset = torchvision.datasets.CIFAR10(root='data', train=False, download=True, transform=transform_test)\r\n",
        "  testloader = data.DataLoader(testset, batch_size=batch_size, shuffle=False, num_workers=num_workers)\r\n",
        "\r\n",
        "\r\n",
        "  # define the model\r\n",
        "  model = GlowModel(num_channels, num_levels, num_steps)\r\n",
        "  model = model.to(device)\r\n",
        "  model.describe()\r\n",
        "\r\n",
        "  # if using GPU\r\n",
        "  if device == 'cuda':\r\n",
        "    model = torch.nn.DataParallel(model, gpu_ids)\r\n",
        "\r\n",
        "  loss_function = NLLLoss().to(device)\r\n",
        "  optimizer = optim.Adam(model.parameters(), lr=learning_rate)\r\n",
        "  scheduler = sched.LambdaLR(optimizer, lambda s: min(1., s / warm_up))\r\n",
        "\r\n",
        "  times_array = []\r\n",
        "\r\n",
        "  # training loop\r\n",
        "  print(\"Starting training of the Glow model\")\r\n",
        "  for epoch in range(1, num_epochs + 1):\r\n",
        "    start_time = time.time()\r\n",
        "    train(epoch, model, trainloader, device, optimizer, scheduler, loss_function, max_grad_norm_default)\r\n",
        "    test(epoch, model, testloader, device, loss_function, num_samples)\r\n",
        "    elapsed_time = time.time() - start_time\r\n",
        "\r\n",
        "    times_array.append([\"Epoch \" + str(epoch) + \": \", time.strftime(\"%H:%M:%S\", time.gmtime(elapsed_time))])\r\n",
        "\r\n",
        "  with open(\"epoch_times.txt\", \"w\") as txt_file:\r\n",
        "    for line in times_array:\r\n",
        "      txt_file.write(\" \".join(line) + \"\\n\")"
      ],
      "execution_count": null,
      "outputs": []
    },
    {
      "cell_type": "code",
      "metadata": {
        "id": "qSEqqrLOuHYU"
      },
      "source": [
        "times_array = []\r\n",
        "for i in range(1, 10):\r\n",
        "  start_time = time.time()\r\n",
        "  time.sleep(2)\r\n",
        "  elapsed_time = time.time() - start_time\r\n",
        "  times_array.append([\"Epoch \" + str(i) + \": \", time.strftime(\"%H:%M:%S\", time.gmtime(elapsed_time))])\r\n",
        "\r\n",
        "with open(\"output.txt\", \"w\") as txt_file:\r\n",
        "    for line in times_array:\r\n",
        "      txt_file.write(\" \".join(line) + \"\\n\")"
      ],
      "execution_count": null,
      "outputs": []
    },
    {
      "cell_type": "code",
      "metadata": {
        "colab": {
          "base_uri": "https://localhost:8080/",
          "height": 1000,
          "referenced_widgets": [
            "526ab654fc7f4b048d8ee3158183f2d2",
            "59d4efc34a3e4dbb90b5b272167581ba",
            "0ae273dafaae4cedb374226a5c2632f2",
            "5ac1c136a9414b50b8f8dc93375b081d",
            "0a8421b9539b4c998adbec0fdbdb17ad",
            "40668cde7efe41fcb37228f9c52c6ffe",
            "2b80b723821d4a068f1c14587eb755a2",
            "690940c5616440559b90b7a3bf4f1294"
          ]
        },
        "id": "OHQOUIt_6qiI",
        "outputId": "8ca615d0-785d-4873-e36c-df1779d37881"
      },
      "source": [
        "best_loss = 0\r\n",
        "global_step = 0\r\n",
        "main_wrapper()"
      ],
      "execution_count": null,
      "outputs": [
        {
          "output_type": "stream",
          "text": [
            "cuda\n",
            "Downloading https://www.cs.toronto.edu/~kriz/cifar-10-python.tar.gz to data/cifar-10-python.tar.gz\n"
          ],
          "name": "stdout"
        },
        {
          "output_type": "display_data",
          "data": {
            "application/vnd.jupyter.widget-view+json": {
              "model_id": "526ab654fc7f4b048d8ee3158183f2d2",
              "version_minor": 0,
              "version_major": 2
            },
            "text/plain": [
              "HBox(children=(FloatProgress(value=0.0, max=170498071.0), HTML(value='')))"
            ]
          },
          "metadata": {
            "tags": []
          }
        },
        {
          "output_type": "stream",
          "text": [
            "\n",
            "Extracting data/cifar-10-python.tar.gz to data\n"
          ],
          "name": "stdout"
        },
        {
          "output_type": "stream",
          "text": [
            "/usr/local/lib/python3.7/dist-packages/torch/utils/data/dataloader.py:477: UserWarning: This DataLoader will create 8 worker processes in total. Our suggested max number of worker in current system is 2, which is smaller than what this DataLoader is going to create. Please be aware that excessive worker creation might get DataLoader running slow or even freeze, lower the worker number to avoid potential slowness/freeze if necessary.\n",
            "  cpuset_checked))\n"
          ],
          "name": "stderr"
        },
        {
          "output_type": "stream",
          "text": [
            "Files already downloaded and verified\n"
          ],
          "name": "stdout"
        },
        {
          "output_type": "stream",
          "text": [
            "\r  0%|          | 0/50000 [00:00<?, ?it/s]"
          ],
          "name": "stderr"
        },
        {
          "output_type": "stream",
          "text": [
            "Model glow with 512 convolutional channels, 3 model levels, and 32 steps in each levels.\n",
            "Starting training of the Glow model\n",
            "===> EPOCH 1\n"
          ],
          "name": "stdout"
        },
        {
          "output_type": "stream",
          "text": [
            "100%|██████████| 50000/50000 [15:45<00:00, 52.89it/s, bpd=4.84, lr=1.56e-6, nll=1.03e+4]\n",
            "  0%|          | 0/10000 [00:00<?, ?it/s]"
          ],
          "name": "stderr"
        },
        {
          "output_type": "stream",
          "text": [
            "testing func\n"
          ],
          "name": "stdout"
        },
        {
          "output_type": "stream",
          "text": [
            "100%|██████████| 10000/10000 [01:11<00:00, 139.83it/s, bpd=4.31, nll=9.18e+3]\n",
            "  0%|          | 0/50000 [00:00<?, ?it/s]"
          ],
          "name": "stderr"
        },
        {
          "output_type": "stream",
          "text": [
            "===> EPOCH 2\n"
          ],
          "name": "stdout"
        },
        {
          "output_type": "stream",
          "text": [
            "100%|██████████| 50000/50000 [15:49<00:00, 52.64it/s, bpd=4.19, lr=3.13e-6, nll=8.93e+3]\n",
            "  0%|          | 0/10000 [00:00<?, ?it/s]"
          ],
          "name": "stderr"
        },
        {
          "output_type": "stream",
          "text": [
            "testing func\n"
          ],
          "name": "stdout"
        },
        {
          "output_type": "stream",
          "text": [
            "100%|██████████| 10000/10000 [01:09<00:00, 143.06it/s, bpd=4.12, nll=8.78e+3]\n",
            "  0%|          | 0/50000 [00:00<?, ?it/s]"
          ],
          "name": "stderr"
        },
        {
          "output_type": "stream",
          "text": [
            "===> EPOCH 3\n"
          ],
          "name": "stdout"
        },
        {
          "output_type": "stream",
          "text": [
            "100%|██████████| 50000/50000 [15:45<00:00, 52.90it/s, bpd=4.08, lr=4.69e-6, nll=8.68e+3]\n",
            "  0%|          | 0/10000 [00:00<?, ?it/s]"
          ],
          "name": "stderr"
        },
        {
          "output_type": "stream",
          "text": [
            "testing func\n"
          ],
          "name": "stdout"
        },
        {
          "output_type": "stream",
          "text": [
            "100%|██████████| 10000/10000 [01:10<00:00, 142.03it/s, bpd=4.03, nll=8.59e+3]\n",
            "  0%|          | 0/50000 [00:00<?, ?it/s]"
          ],
          "name": "stderr"
        },
        {
          "output_type": "stream",
          "text": [
            "===> EPOCH 4\n"
          ],
          "name": "stdout"
        },
        {
          "output_type": "stream",
          "text": [
            "100%|██████████| 50000/50000 [15:46<00:00, 52.82it/s, bpd=4.02, lr=6.26e-6, nll=8.56e+3]\n",
            "  0%|          | 0/10000 [00:00<?, ?it/s]"
          ],
          "name": "stderr"
        },
        {
          "output_type": "stream",
          "text": [
            "testing func\n"
          ],
          "name": "stdout"
        },
        {
          "output_type": "stream",
          "text": [
            "100%|██████████| 10000/10000 [01:10<00:00, 141.59it/s, bpd=3.98, nll=8.47e+3]\n",
            "  0%|          | 0/50000 [00:00<?, ?it/s]"
          ],
          "name": "stderr"
        },
        {
          "output_type": "stream",
          "text": [
            "===> EPOCH 5\n"
          ],
          "name": "stdout"
        },
        {
          "output_type": "stream",
          "text": [
            "100%|██████████| 50000/50000 [15:44<00:00, 52.92it/s, bpd=3.98, lr=7.82e-6, nll=8.47e+3]\n",
            "  0%|          | 0/10000 [00:00<?, ?it/s]"
          ],
          "name": "stderr"
        },
        {
          "output_type": "stream",
          "text": [
            "testing func\n"
          ],
          "name": "stdout"
        },
        {
          "output_type": "stream",
          "text": [
            "100%|██████████| 10000/10000 [01:10<00:00, 141.29it/s, bpd=3.99, nll=8.49e+3]\n",
            "  0%|          | 0/50000 [00:00<?, ?it/s]"
          ],
          "name": "stderr"
        },
        {
          "output_type": "stream",
          "text": [
            "===> EPOCH 6\n"
          ],
          "name": "stdout"
        },
        {
          "output_type": "stream",
          "text": [
            "100%|██████████| 50000/50000 [15:46<00:00, 52.81it/s, bpd=3.95, lr=9.38e-6, nll=8.42e+3]\n",
            "  0%|          | 0/10000 [00:00<?, ?it/s]"
          ],
          "name": "stderr"
        },
        {
          "output_type": "stream",
          "text": [
            "testing func\n"
          ],
          "name": "stdout"
        },
        {
          "output_type": "stream",
          "text": [
            "100%|██████████| 10000/10000 [01:10<00:00, 141.50it/s, bpd=3.95, nll=8.4e+3]\n",
            "  0%|          | 0/50000 [00:00<?, ?it/s]"
          ],
          "name": "stderr"
        },
        {
          "output_type": "stream",
          "text": [
            "===> EPOCH 7\n"
          ],
          "name": "stdout"
        },
        {
          "output_type": "stream",
          "text": [
            "100%|██████████| 50000/50000 [15:45<00:00, 52.86it/s, bpd=3.93, lr=1.09e-5, nll=8.37e+3]\n",
            "  0%|          | 0/10000 [00:00<?, ?it/s]"
          ],
          "name": "stderr"
        },
        {
          "output_type": "stream",
          "text": [
            "testing func\n"
          ],
          "name": "stdout"
        },
        {
          "output_type": "stream",
          "text": [
            "100%|██████████| 10000/10000 [01:10<00:00, 141.04it/s, bpd=3.92, nll=8.35e+3]\n",
            "  0%|          | 0/50000 [00:00<?, ?it/s]"
          ],
          "name": "stderr"
        },
        {
          "output_type": "stream",
          "text": [
            "===> EPOCH 8\n"
          ],
          "name": "stdout"
        },
        {
          "output_type": "stream",
          "text": [
            "100%|██████████| 50000/50000 [15:48<00:00, 52.73it/s, bpd=3.92, lr=1.25e-5, nll=8.34e+3]\n",
            "  0%|          | 0/10000 [00:00<?, ?it/s]"
          ],
          "name": "stderr"
        },
        {
          "output_type": "stream",
          "text": [
            "testing func\n"
          ],
          "name": "stdout"
        },
        {
          "output_type": "stream",
          "text": [
            "100%|██████████| 10000/10000 [01:10<00:00, 141.14it/s, bpd=3.93, nll=8.36e+3]\n",
            "  0%|          | 0/50000 [00:00<?, ?it/s]"
          ],
          "name": "stderr"
        },
        {
          "output_type": "stream",
          "text": [
            "===> EPOCH 9\n"
          ],
          "name": "stdout"
        },
        {
          "output_type": "stream",
          "text": [
            "100%|██████████| 50000/50000 [15:50<00:00, 52.62it/s, bpd=3.91, lr=1.41e-5, nll=8.32e+3]\n",
            "  0%|          | 0/10000 [00:00<?, ?it/s]"
          ],
          "name": "stderr"
        },
        {
          "output_type": "stream",
          "text": [
            "testing func\n"
          ],
          "name": "stdout"
        },
        {
          "output_type": "stream",
          "text": [
            "100%|██████████| 10000/10000 [01:10<00:00, 141.33it/s, bpd=3.91, nll=8.33e+3]\n",
            "  0%|          | 0/50000 [00:00<?, ?it/s]"
          ],
          "name": "stderr"
        },
        {
          "output_type": "stream",
          "text": [
            "===> EPOCH 10\n"
          ],
          "name": "stdout"
        },
        {
          "output_type": "stream",
          "text": [
            "100%|██████████| 50000/50000 [15:44<00:00, 52.92it/s, bpd=3.89, lr=1.56e-5, nll=8.29e+3]\n",
            "  0%|          | 0/10000 [00:00<?, ?it/s]"
          ],
          "name": "stderr"
        },
        {
          "output_type": "stream",
          "text": [
            "testing func\n"
          ],
          "name": "stdout"
        },
        {
          "output_type": "stream",
          "text": [
            "100%|██████████| 10000/10000 [01:10<00:00, 142.16it/s, bpd=3.92, nll=8.34e+3]\n",
            "  0%|          | 0/50000 [00:00<?, ?it/s]"
          ],
          "name": "stderr"
        },
        {
          "output_type": "stream",
          "text": [
            "===> EPOCH 11\n"
          ],
          "name": "stdout"
        },
        {
          "output_type": "stream",
          "text": [
            "100%|██████████| 50000/50000 [15:44<00:00, 52.94it/s, bpd=3.88, lr=1.72e-5, nll=8.27e+3]\n",
            "  0%|          | 0/10000 [00:00<?, ?it/s]"
          ],
          "name": "stderr"
        },
        {
          "output_type": "stream",
          "text": [
            "testing func\n"
          ],
          "name": "stdout"
        },
        {
          "output_type": "stream",
          "text": [
            "100%|██████████| 10000/10000 [01:09<00:00, 143.19it/s, bpd=3.9, nll=8.31e+3]\n",
            "  0%|          | 0/50000 [00:00<?, ?it/s]"
          ],
          "name": "stderr"
        },
        {
          "output_type": "stream",
          "text": [
            "===> EPOCH 12\n"
          ],
          "name": "stdout"
        },
        {
          "output_type": "stream",
          "text": [
            "100%|██████████| 50000/50000 [15:44<00:00, 52.95it/s, bpd=3.88, lr=1.88e-5, nll=8.26e+3]\n",
            "  0%|          | 0/10000 [00:00<?, ?it/s]"
          ],
          "name": "stderr"
        },
        {
          "output_type": "stream",
          "text": [
            "testing func\n"
          ],
          "name": "stdout"
        },
        {
          "output_type": "stream",
          "text": [
            "100%|██████████| 10000/10000 [01:09<00:00, 143.11it/s, bpd=4, nll=8.51e+3]\n",
            "  0%|          | 0/50000 [00:00<?, ?it/s]"
          ],
          "name": "stderr"
        },
        {
          "output_type": "stream",
          "text": [
            "===> EPOCH 13\n"
          ],
          "name": "stdout"
        },
        {
          "output_type": "stream",
          "text": [
            "100%|██████████| 50000/50000 [15:43<00:00, 53.01it/s, bpd=3.87, lr=2.03e-5, nll=8.24e+3]\n",
            "  0%|          | 0/10000 [00:00<?, ?it/s]"
          ],
          "name": "stderr"
        },
        {
          "output_type": "stream",
          "text": [
            "testing func\n"
          ],
          "name": "stdout"
        },
        {
          "output_type": "stream",
          "text": [
            "100%|██████████| 10000/10000 [01:10<00:00, 142.74it/s, bpd=3.94, nll=8.39e+3]\n",
            "  0%|          | 0/50000 [00:00<?, ?it/s]"
          ],
          "name": "stderr"
        },
        {
          "output_type": "stream",
          "text": [
            "===> EPOCH 14\n"
          ],
          "name": "stdout"
        },
        {
          "output_type": "stream",
          "text": [
            "100%|██████████| 50000/50000 [15:41<00:00, 53.09it/s, bpd=3.86, lr=2.19e-5, nll=8.22e+3]\n",
            "  0%|          | 0/10000 [00:00<?, ?it/s]"
          ],
          "name": "stderr"
        },
        {
          "output_type": "stream",
          "text": [
            "testing func\n"
          ],
          "name": "stdout"
        },
        {
          "output_type": "stream",
          "text": [
            "100%|██████████| 10000/10000 [01:09<00:00, 143.63it/s, bpd=4.01, nll=8.53e+3]\n",
            "  0%|          | 0/50000 [00:00<?, ?it/s]"
          ],
          "name": "stderr"
        },
        {
          "output_type": "stream",
          "text": [
            "===> EPOCH 15\n"
          ],
          "name": "stdout"
        },
        {
          "output_type": "stream",
          "text": [
            "100%|██████████| 50000/50000 [15:41<00:00, 53.13it/s, bpd=3.86, lr=2.35e-5, nll=8.23e+3]\n",
            "  0%|          | 0/10000 [00:00<?, ?it/s]"
          ],
          "name": "stderr"
        },
        {
          "output_type": "stream",
          "text": [
            "testing func\n"
          ],
          "name": "stdout"
        },
        {
          "output_type": "stream",
          "text": [
            "100%|██████████| 10000/10000 [01:10<00:00, 141.64it/s, bpd=3.87, nll=8.24e+3]\n",
            "  0%|          | 0/50000 [00:00<?, ?it/s]"
          ],
          "name": "stderr"
        },
        {
          "output_type": "stream",
          "text": [
            "===> EPOCH 16\n"
          ],
          "name": "stdout"
        },
        {
          "output_type": "stream",
          "text": [
            "100%|██████████| 50000/50000 [15:42<00:00, 53.03it/s, bpd=3.85, lr=2.5e-5, nll=8.2e+3]\n",
            "  0%|          | 0/10000 [00:00<?, ?it/s]"
          ],
          "name": "stderr"
        },
        {
          "output_type": "stream",
          "text": [
            "testing func\n"
          ],
          "name": "stdout"
        },
        {
          "output_type": "stream",
          "text": [
            "100%|██████████| 10000/10000 [01:10<00:00, 142.82it/s, bpd=3.87, nll=8.23e+3]\n",
            "  0%|          | 0/50000 [00:00<?, ?it/s]"
          ],
          "name": "stderr"
        },
        {
          "output_type": "stream",
          "text": [
            "===> EPOCH 17\n"
          ],
          "name": "stdout"
        },
        {
          "output_type": "stream",
          "text": [
            "100%|██████████| 50000/50000 [15:42<00:00, 53.07it/s, bpd=3.86, lr=2.66e-5, nll=8.21e+3]\n",
            "  0%|          | 0/10000 [00:00<?, ?it/s]"
          ],
          "name": "stderr"
        },
        {
          "output_type": "stream",
          "text": [
            "testing func\n"
          ],
          "name": "stdout"
        },
        {
          "output_type": "stream",
          "text": [
            "100%|██████████| 10000/10000 [01:09<00:00, 143.77it/s, bpd=3.93, nll=8.38e+3]\n",
            "  0%|          | 0/50000 [00:00<?, ?it/s]"
          ],
          "name": "stderr"
        },
        {
          "output_type": "stream",
          "text": [
            "===> EPOCH 18\n"
          ],
          "name": "stdout"
        },
        {
          "output_type": "stream",
          "text": [
            "100%|██████████| 50000/50000 [15:42<00:00, 53.06it/s, bpd=3.84, lr=2.82e-5, nll=8.18e+3]\n",
            "  0%|          | 0/10000 [00:00<?, ?it/s]"
          ],
          "name": "stderr"
        },
        {
          "output_type": "stream",
          "text": [
            "testing func\n"
          ],
          "name": "stdout"
        },
        {
          "output_type": "stream",
          "text": [
            "100%|██████████| 10000/10000 [01:09<00:00, 143.65it/s, bpd=3.87, nll=8.24e+3]\n",
            "  0%|          | 0/50000 [00:00<?, ?it/s]"
          ],
          "name": "stderr"
        },
        {
          "output_type": "stream",
          "text": [
            "===> EPOCH 19\n"
          ],
          "name": "stdout"
        },
        {
          "output_type": "stream",
          "text": [
            "100%|██████████| 50000/50000 [15:41<00:00, 53.12it/s, bpd=3.85, lr=2.97e-5, nll=8.19e+3]\n",
            "  0%|          | 0/10000 [00:00<?, ?it/s]"
          ],
          "name": "stderr"
        },
        {
          "output_type": "stream",
          "text": [
            "testing func\n"
          ],
          "name": "stdout"
        },
        {
          "output_type": "stream",
          "text": [
            "100%|██████████| 10000/10000 [01:10<00:00, 142.80it/s, bpd=3.87, nll=8.24e+3]\n",
            "  0%|          | 0/50000 [00:00<?, ?it/s]"
          ],
          "name": "stderr"
        },
        {
          "output_type": "stream",
          "text": [
            "===> EPOCH 20\n"
          ],
          "name": "stdout"
        },
        {
          "output_type": "stream",
          "text": [
            "100%|██████████| 50000/50000 [15:42<00:00, 53.05it/s, bpd=3.84, lr=3.13e-5, nll=8.17e+3]\n",
            "  0%|          | 0/10000 [00:00<?, ?it/s]"
          ],
          "name": "stderr"
        },
        {
          "output_type": "stream",
          "text": [
            "testing func\n"
          ],
          "name": "stdout"
        },
        {
          "output_type": "stream",
          "text": [
            "100%|██████████| 10000/10000 [01:09<00:00, 143.34it/s, bpd=3.91, nll=8.33e+3]\n"
          ],
          "name": "stderr"
        }
      ]
    },
    {
      "cell_type": "code",
      "metadata": {
        "id": "zXqv0fli6scf"
      },
      "source": [
        ""
      ],
      "execution_count": null,
      "outputs": []
    }
  ]
}